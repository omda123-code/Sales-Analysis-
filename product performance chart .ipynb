{
 "cells": [
  {
   "cell_type": "code",
   "execution_count": 1,
   "id": "5ef9afd7-7c86-4b50-9408-a2962d036ffa",
   "metadata": {},
   "outputs": [],
   "source": [
    "import pandas as pd\n",
    "import matplotlib.pyplot as plt\n",
    "import os\n",
    "from sqlalchemy import create_engine"
   ]
  },
  {
   "cell_type": "code",
   "execution_count": 2,
   "id": "a0d4738c-64af-4508-b198-9db3a30ef6d1",
   "metadata": {},
   "outputs": [],
   "source": [
    "server = r\"DESKTOP-5VCHN8F\\NODESERVER\"\n",
    "database = \"Sales Analysis\"\n",
    "driver = \"ODBC Driver 17 for SQL Server\"\n",
    "\n",
    "engine = create_engine(\n",
    "    f\"mssql+pyodbc://@{server}/{database}?driver={driver}&trusted_connection=yes\"\n",
    ")"
   ]
  },
  {
   "cell_type": "code",
   "execution_count": 3,
   "id": "74c7da31-6cca-4846-b3d2-1b40c5b9cd1b",
   "metadata": {},
   "outputs": [],
   "source": [
    "os.makedirs(\"visuals\", exist_ok=True)"
   ]
  },
  {
   "cell_type": "code",
   "execution_count": 4,
   "id": "cdb359d0-013a-4eff-913c-ad0ff6c81bee",
   "metadata": {},
   "outputs": [],
   "source": [
    "df_product = pd.read_sql(\"select * from ProductPerformance;\", engine)\n",
    "\n",
    "# Top 10 Products by Profit\n",
    "top_profit = df_product.nlargest(10, \"TotalProfit\")\n",
    "plt.bar(top_profit[\"Product_Id\"].astype(str), top_profit[\"TotalProfit\"])\n",
    "plt.title(\"Top 10 Products by Profit\")\n",
    "plt.xticks(rotation=45)\n",
    "plt.savefig(\"visuals/top10_products_profit.png\")\n",
    "plt.close()"
   ]
  },
  {
   "cell_type": "code",
   "execution_count": 5,
   "id": "f5451feb-6892-46ed-a855-e430322973e8",
   "metadata": {},
   "outputs": [],
   "source": [
    "# Profit vs Sales\n",
    "plt.scatter(df_product[\"TotalSales\"], df_product[\"TotalProfit\"], alpha=0.6)\n",
    "plt.title(\"Profit vs Sales (Products)\")\n",
    "plt.xlabel(\"Total Sales\"); plt.ylabel(\"Total Profit\")\n",
    "plt.savefig(\"visuals/profit_vs_sales.png\")\n",
    "plt.close()"
   ]
  },
  {
   "cell_type": "code",
   "execution_count": 6,
   "id": "0607b0a7-4827-42f2-9d3c-c5d40e4e69f7",
   "metadata": {},
   "outputs": [],
   "source": [
    "# Profit Margin by Sub-Category\n",
    "subcat_margin = df_product.groupby(\"Sub_Category\")[\"ProfitMargin\"].mean().sort_values(ascending=False)\n",
    "plt.bar(subcat_margin.index, subcat_margin.values)\n",
    "plt.title(\"Profit Margin by Sub-Category\")\n",
    "plt.xticks(rotation=45, ha=\"right\")\n",
    "plt.savefig(\"visuals/profit_margin_by_subcategory.png\")\n",
    "plt.close()"
   ]
  },
  {
   "cell_type": "code",
   "execution_count": 7,
   "id": "da4983f7-34aa-4cdb-9d26-40a5dee2cf18",
   "metadata": {},
   "outputs": [],
   "source": [
    "# Avg Discount by Category\n",
    "cat_discount = df_product.groupby(\"Category\")[\"AvgDiscount\"].mean().sort_values(ascending=False)\n",
    "plt.bar(cat_discount.index, cat_discount.values)\n",
    "plt.title(\"Average Discount by Category\")\n",
    "plt.savefig(\"visuals/avg_discount_by_category.png\")\n",
    "plt.close()"
   ]
  },
  {
   "cell_type": "code",
   "execution_count": null,
   "id": "abe38044-229e-4e77-97b7-b99025633d7a",
   "metadata": {},
   "outputs": [],
   "source": []
  }
 ],
 "metadata": {
  "kernelspec": {
   "display_name": "Python 3 (ipykernel)",
   "language": "python",
   "name": "python3"
  },
  "language_info": {
   "codemirror_mode": {
    "name": "ipython",
    "version": 3
   },
   "file_extension": ".py",
   "mimetype": "text/x-python",
   "name": "python",
   "nbconvert_exporter": "python",
   "pygments_lexer": "ipython3",
   "version": "3.12.7"
  }
 },
 "nbformat": 4,
 "nbformat_minor": 5
}
