{
 "cells": [
  {
   "cell_type": "code",
   "execution_count": null,
   "id": "1d3056d8-4d66-4edb-8c07-d5c8ef616833",
   "metadata": {},
   "outputs": [],
   "source": [
    "import pandas as pd\n",
    "import matplotlib.pyplot as plt\n",
    "import os\n",
    "from sqlalchemy import create_engine"
   ]
  },
  {
   "cell_type": "code",
   "execution_count": null,
   "id": "1bf308cd-c1c6-4d9b-9088-7986b0ee95b1",
   "metadata": {},
   "outputs": [],
   "source": [
    "server = r\"DESKTOP-5VCHN8F\\NODESERVER\"\n",
    "database = \"Sales Analysis\"\n",
    "driver = \"ODBC Driver 17 for SQL Server\"\n",
    "\n",
    "engine = create_engine(\n",
    "    f\"mssql+pyodbc://@{server}/{database}?driver={driver}&trusted_connection=yes\"\n",
    ")"
   ]
  },
  {
   "cell_type": "code",
   "execution_count": null,
   "id": "735adb4b-34b5-4c9a-a403-5fe7f8c88ab1",
   "metadata": {},
   "outputs": [],
   "source": [
    "os.makedirs(\"visuals\", exist_ok=True)"
   ]
  },
  {
   "cell_type": "code",
   "execution_count": null,
   "id": "d1fb1bf4-59c2-4897-9075-a83f70d05448",
   "metadata": {},
   "outputs": [],
   "source": [
    "# ----- Sales by Category -----\n",
    "query_category = \"\"\"\n",
    "select Category,\n",
    "SUM(List_price * Quantity * (1-(Discount_Percent/100))) as TotalSales\n",
    "from Order_Sales\n",
    "group by Category\n",
    "order by TotalSales desc;\n",
    "\"\"\"\n",
    "df_category = pd.read_sql(query_category, engine)\n",
    "plt.bar(df_category[\"Category\"], df_category[\"TotalSales\"])\n",
    "plt.title(\"Sales by Category\")\n",
    "plt.savefig(\"visuals/sales_by_category.png\")\n",
    "plt.close()"
   ]
  },
  {
   "cell_type": "code",
   "execution_count": null,
   "id": "d6063792-51f4-4d64-8715-70640fa4a7f6",
   "metadata": {},
   "outputs": [],
   "source": [
    "query_top = \"\"\"\n",
    "select top 10 Product_Id,\n",
    "SUM(List_price * Quantity * (1-(Discount_Percent/100))) as TotalSales\n",
    "from Order_Sales\n",
    "group by Product_Id\n",
    "order by TotalSales desc;\n",
    "\"\"\"\n",
    "df_top = pd.read_sql(query_top, engine)\n",
    "plt.bar(df_top[\"Product_Id\"].astype(str), df_top[\"TotalSales\"])\n",
    "plt.title(\"Top 10 Products by Revenue\")\n",
    "plt.xticks(rotation=45)\n",
    "plt.savefig(\"visuals/top10_products.png\")\n",
    "plt.close()"
   ]
  },
  {
   "cell_type": "code",
   "execution_count": null,
   "id": "12c82900-c7ee-4142-81dd-d8d474b91d4d",
   "metadata": {},
   "outputs": [],
   "source": [
    "# ----- Sales by Region -----\n",
    "query_region = \"\"\"\n",
    "select Region,\n",
    "SUM(List_price * Quantity * (1-(Discount_Percent/100))) as TotalSales\n",
    "from Order_Sales\n",
    "group by Region\n",
    "order by TotalSales desc;\n",
    "\"\"\"\n",
    "df_region = pd.read_sql(query_region, engine)\n",
    "plt.bar(df_region[\"Region\"], df_region[\"TotalSales\"])\n",
    "plt.title(\"Sales by Region\")\n",
    "plt.savefig(\"visuals/sales_by_region.png\")\n",
    "plt.close()"
   ]
  },
  {
   "cell_type": "code",
   "execution_count": null,
   "id": "73bd0c43-db69-431d-9d52-fcb5be45cea3",
   "metadata": {},
   "outputs": [],
   "source": [
    "# ----- Monthly Sales Trend -----\n",
    "query_monthly = \"\"\"\n",
    "select Year(Order_Date) as Year,\n",
    "Month(Order_Date) as Month,\n",
    "datename(month,Order_Date) as MonthName,\n",
    "SUM(List_price * Quantity * (1-(Discount_Percent/100))) as TotalSales\n",
    "from Order_Sales\n",
    "group by Year(Order_Date),Month(Order_Date),datename(month,Order_Date)\n",
    "order by Year,Month;\n",
    "\"\"\"\n",
    "df_monthly = pd.read_sql(query_monthly, engine)\n",
    "plt.plot(df_monthly[\"MonthName\"], df_monthly[\"TotalSales\"], marker='o')\n",
    "plt.title(\"Monthly Sales Trend\")\n",
    "plt.xticks(rotation=45)\n",
    "plt.savefig(\"visuals/monthly_sales_trend.png\")\n",
    "plt.close()"
   ]
  },
  {
   "cell_type": "code",
   "execution_count": null,
   "id": "ae8c238d-0a24-4d6c-9ab3-b13ad044d604",
   "metadata": {},
   "outputs": [],
   "source": [
    "query_growth = \"\"\"\n",
    "with MonthlySales as (\n",
    "    select Year(Order_Date) as Year,\n",
    "    Month(Order_Date) as Month,\n",
    "    SUM(List_price * Quantity * (1-(Discount_Percent/100))) as MonthlySales\n",
    "    from Order_Sales group by Year(Order_Date),Month(Order_Date)\n",
    ")\n",
    "select a.Year,a.Month,a.MonthlySales as CurrentSales,\n",
    "       b.MonthlySales as PreviousSales,\n",
    "       (a.MonthlySales-b.MonthlySales)*100.0/nullif(b.MonthlySales,0) as GrowthPercent\n",
    "from MonthlySales a\n",
    "left join MonthlySales b on a.Month=b.Month and a.Year=b.Year+1\n",
    "order by a.Year,a.Month;\n",
    "\"\"\"\n",
    "df_growth = pd.read_sql(query_growth, engine)\n",
    "plt.bar(df_growth[\"Year\"].astype(str)+\"-\"+df_growth[\"Month\"].astype(str),\n",
    "        df_growth[\"GrowthPercent\"])\n",
    "plt.title(\"Year-over-Year Growth %\")\n",
    "plt.xticks(rotation=90)\n",
    "plt.savefig(\"visuals/yoy_growth.png\")\n",
    "plt.close()"
   ]
  },
  {
   "cell_type": "code",
   "execution_count": null,
   "id": "56e9904d-c178-420f-b7c6-b5184387d8ce",
   "metadata": {},
   "outputs": [],
   "source": [
    "# ----- Quarterly Sales -----\n",
    "query_quarter = \"\"\"\n",
    "select Year(Order_Date) as Year,\n",
    "Datepart(Quarter , Order_Date) as Quarter,\n",
    "SUM(List_price * Quantity * (1-(Discount_Percent/100))) as TotalSales\n",
    "from Order_Sales group by Year(Order_Date),Datepart(Quarter,Order_Date)\n",
    "order by Year,Quarter;\n",
    "\"\"\"\n",
    "df_quarter = pd.read_sql(query_quarter, engine)\n",
    "plt.bar(df_quarter[\"Year\"].astype(str)+\"-Q\"+df_quarter[\"Quarter\"].astype(str),\n",
    "        df_quarter[\"TotalSales\"])\n",
    "plt.title(\"Quarterly Sales\")\n",
    "plt.savefig(\"visuals/quarterly_sales.png\")\n",
    "plt.close()"
   ]
  },
  {
   "cell_type": "code",
   "execution_count": null,
   "id": "9b6dc0b1-c96a-479c-b494-7770c3d0840f",
   "metadata": {},
   "outputs": [],
   "source": []
  }
 ],
 "metadata": {
  "kernelspec": {
   "display_name": "Python 3 (ipykernel)",
   "language": "python",
   "name": "python3"
  },
  "language_info": {
   "codemirror_mode": {
    "name": "ipython",
    "version": 3
   },
   "file_extension": ".py",
   "mimetype": "text/x-python",
   "name": "python",
   "nbconvert_exporter": "python",
   "pygments_lexer": "ipython3",
   "version": "3.12.7"
  }
 },
 "nbformat": 4,
 "nbformat_minor": 5
}
