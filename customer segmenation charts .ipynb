{
 "cells": [
  {
   "cell_type": "code",
   "execution_count": 1,
   "id": "4c78a819-7628-44af-bd29-ecd1b7b20c70",
   "metadata": {},
   "outputs": [],
   "source": [
    "import pandas as pd\n",
    "import matplotlib.pyplot as plt\n",
    "import os\n",
    "from sqlalchemy import create_engine"
   ]
  },
  {
   "cell_type": "code",
   "execution_count": 2,
   "id": "c5c13314-57a6-47ec-a239-817a4bb445dd",
   "metadata": {},
   "outputs": [],
   "source": [
    "server = r\"DESKTOP-5VCHN8F\\NODESERVER\"\n",
    "database = \"Sales Analysis\"\n",
    "driver = \"ODBC Driver 17 for SQL Server\"\n",
    "\n",
    "engine = create_engine(\n",
    "    f\"mssql+pyodbc://@{server}/{database}?driver={driver}&trusted_connection=yes\"\n",
    ")"
   ]
  },
  {
   "cell_type": "code",
   "execution_count": 3,
   "id": "5678a013-ef5e-434b-a133-922f75d0eaa9",
   "metadata": {},
   "outputs": [],
   "source": [
    "os.makedirs(\"visuals\", exist_ok=True)"
   ]
  },
  {
   "cell_type": "code",
   "execution_count": 4,
   "id": "d8b5d845-8ec2-4924-aeb9-2b8a742e0360",
   "metadata": {},
   "outputs": [],
   "source": [
    "query_rfm = \"\"\"\n",
    "with CustomerRFM as ( \n",
    "    select City + ', '+State as CustomerLocation,\n",
    "           Segment,\n",
    "           Datediff(DAY,MAX(Order_Date),GETDATE()) as Recency,\n",
    "           count(distinct Order_Id) as Frequency,\n",
    "           SUM(List_price * Quantity * (1-(Discount_Percent/100))) as Monetary,\n",
    "           ntile(5) over (order by Datediff(day,max(Order_Date),getdate())desc) as R_Score,\n",
    "           ntile(5) over (order by count(distinct Order_Id)) as F_Score,\n",
    "           ntile(5) over (order by SUM(List_price * Quantity * (1-(Discount_Percent/100)))) as M_Score,\n",
    "           (ntile(5) over (order by datediff(day,max(Order_Date),Getdate()) desc) \n",
    "            + ntile(5) over (order by count(distinct Order_Id))\n",
    "            + ntile(5) over (order by SUM(List_price * Quantity * (1-(Discount_Percent/100))))) / 3.0 as RFM_Score\n",
    "    from Order_Sales group by City , State , Segment\n",
    ")\n",
    "select CustomerLocation,Segment,Recency,Frequency,Monetary,\n",
    "       R_Score,F_Score,M_Score,RFM_Score,\n",
    "       case\n",
    "         when RFM_Score >= 4.5 then 'Champions'\n",
    "         when RFM_Score >= 4.0 then 'Loyal Customers'\n",
    "         when RFM_Score >= 3.5 then 'Potenial Loyalits'\n",
    "         when RFM_Score >= 3.0 then 'New Customers'\n",
    "         when RFM_Score >= 2.5 then 'Promising'\n",
    "         when RFM_Score >= 2.0 then 'Needs Attention'\n",
    "         else 'At Risk'\n",
    "       end as CustomerSegment\n",
    "from CustomerRFM order by RFM_Score desc;\n",
    "\"\"\"\n",
    "df_rfm = pd.read_sql(query_rfm, engine)"
   ]
  },
  {
   "cell_type": "code",
   "execution_count": 5,
   "id": "9a0f0983-ce3f-49c0-bcb2-323ea7dedad9",
   "metadata": {},
   "outputs": [],
   "source": [
    "# Pie chart - Segments\n",
    "segment_counts = df_rfm[\"CustomerSegment\"].value_counts()\n",
    "plt.pie(segment_counts, labels=segment_counts.index, autopct=\"%1.1f%%\", startangle=90)\n",
    "plt.title(\"Customer Segments\")\n",
    "plt.savefig(\"visuals/customer_segments.png\")\n",
    "plt.close()"
   ]
  },
  {
   "cell_type": "code",
   "execution_count": 6,
   "id": "2d20aa7c-d464-4586-a1bf-ee8046ff688a",
   "metadata": {},
   "outputs": [],
   "source": [
    "# Histogram - RFM Score\n",
    "plt.hist(df_rfm[\"RFM_Score\"], bins=10, color=\"skyblue\", edgecolor=\"black\")\n",
    "plt.title(\"RFM Score Distribution\")\n",
    "plt.xlabel(\"RFM Score\"); plt.ylabel(\"Customers\")\n",
    "plt.savefig(\"visuals/rfm_score_distribution.png\")\n",
    "plt.close()"
   ]
  },
  {
   "cell_type": "code",
   "execution_count": 7,
   "id": "38eee22b-ef30-4607-934c-1229db882b3f",
   "metadata": {},
   "outputs": [],
   "source": [
    "# Avg R,F,M by Segment\n",
    "avg_rfm = df_rfm.groupby(\"CustomerSegment\")[[\"Recency\",\"Frequency\",\"Monetary\"]].mean()\n",
    "avg_rfm.plot(kind=\"bar\", figsize=(10,6))\n",
    "plt.title(\"Average Recency, Frequency, Monetary by Segment\")\n",
    "plt.ylabel(\"Average Value\")\n",
    "plt.savefig(\"visuals/avg_rfm_by_segment.png\")\n",
    "plt.close()"
   ]
  },
  {
   "cell_type": "code",
   "execution_count": null,
   "id": "e86916c9-4636-408b-88d4-01c9a90c48d9",
   "metadata": {},
   "outputs": [],
   "source": []
  }
 ],
 "metadata": {
  "kernelspec": {
   "display_name": "Python 3 (ipykernel)",
   "language": "python",
   "name": "python3"
  },
  "language_info": {
   "codemirror_mode": {
    "name": "ipython",
    "version": 3
   },
   "file_extension": ".py",
   "mimetype": "text/x-python",
   "name": "python",
   "nbconvert_exporter": "python",
   "pygments_lexer": "ipython3",
   "version": "3.12.7"
  }
 },
 "nbformat": 4,
 "nbformat_minor": 5
}
